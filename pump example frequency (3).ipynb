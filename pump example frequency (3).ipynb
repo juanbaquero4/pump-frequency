{
 "cells": [
  {
   "cell_type": "code",
   "execution_count": null,
   "id": "c7702061",
   "metadata": {},
   "outputs": [],
   "source": [
    "from pyomo.environ import *\n",
    "import numpy as np\n",
    "from idaes.core import FlowsheetBlock\n",
    "from idaes.generic_models.unit_models.pressure_changer import Pump\n",
    "from idaes.generic_models.properties import iapws95\n",
    "from idaes.generic_models.properties.helmholtz.helmholtz import (PhaseType)\n",
    "from idaes.core.util.model_statistics import degrees_of_freedom\n",
    "import idaes.core.util.scaling as iscale\n",
    "import idaes.logger as idaeslog\n",
    "import pytest\n",
    "\n",
    "solver = SolverFactory('ipopt')\n",
    "m = ConcreteModel()\n",
    "m.fs = FlowsheetBlock(default={\"dynamic\": False})\n",
    "m.fs.properties = iapws95.Iapws95ParameterBlock(default={\"phase_presentation\":PhaseType.L})\n",
    "m.fs.unit = Pump (default={\n",
    "    \"property_package\": m.fs.properties,\n",
    "})"
   ]
  },
  {
   "cell_type": "code",
   "execution_count": null,
   "id": "a9945dbe",
   "metadata": {},
   "outputs": [],
   "source": [
    "Q = 25.26\n",
    "Tin = 333.15  # K\n",
    "Pin = 122003.6  # Pa\n",
    "Pdisc = (-3.1795*Q**4)+(150.43*Q**3)+(-2258.8*Q**2)+(-22975*Q)+(3000000)\n",
    "eff =  (0.00002*Q**3)+(-0.0022*Q**2)+(0.0774*Q)+(0.009)"
   ]
  },
  {
   "cell_type": "code",
   "execution_count": null,
   "id": "bdbe2e5a",
   "metadata": {},
   "outputs": [],
   "source": [
    "hin = value(iapws95.htpx(Tin*units.K, Pin*units.Pa))\n",
    "# set inputs\n",
    "m.fs.unit.inlet.enth_mol[0].fix(hin)\n",
    "m.fs.unit.inlet.pressure[0].fix(Pin)\n",
    "m.fs.unit.inlet.flow_mol[0].fix(Q)\n",
    "m.fs.unit.outlet.pressure[0].fix(Pdisc)\n",
    "m.fs.unit.efficiency_pump.fix(eff)"
   ]
  },
  {
   "cell_type": "code",
   "execution_count": null,
   "id": "c467fd93",
   "metadata": {
    "scrolled": true
   },
   "outputs": [],
   "source": [
    "m.fs.unit.initialize(outlvl=idaeslog.INFO)"
   ]
  },
  {
   "cell_type": "code",
   "execution_count": null,
   "id": "bb98dddd",
   "metadata": {},
   "outputs": [],
   "source": [
    "opt = SolverFactory('ipopt') # set solver \n",
    "solve_status = opt.solve(m , tee=True) # set the solver status"
   ]
  },
  {
   "cell_type": "code",
   "execution_count": null,
   "id": "770727c8",
   "metadata": {
    "scrolled": true
   },
   "outputs": [],
   "source": [
    "Qin_t = value (m.fs.unit.inlet.flow_mol[0])\n",
    "print (Qin_t)"
   ]
  },
  {
   "cell_type": "code",
   "execution_count": null,
   "id": "6799b950",
   "metadata": {},
   "outputs": [],
   "source": [
    "m.fs.unit.inlet.flow_mol[0].unfix()\n",
    "m.fs.unit.outlet.pressure[0].unfix()\n",
    "m.fs.unit.efficiency_pump.unfix()"
   ]
  },
  {
   "cell_type": "code",
   "execution_count": null,
   "id": "fd51e44f",
   "metadata": {},
   "outputs": [],
   "source": [
    "m.fs.unit.bhp = Var(\n",
    "    m.fs.unit.flowsheet().time, \n",
    "    initialize=1.0,\n",
    "    doc=\"Break Horse Power\",\n",
    "    units=\"power\",\n",
    ")\n",
    "\n",
    "m.fs.unit.freq = Var(\n",
    "    m.fs.unit.flowsheet().time, \n",
    "    initialize = 55,\n",
    "    #    m.frec,\n",
    "    bounds = (55,60),\n",
    "    doc=\"Pump frequency\",\n",
    "    units=\"hz\",\n",
    ")"
   ]
  },
  {
   "cell_type": "code",
   "execution_count": null,
   "id": "90e1cc24",
   "metadata": {},
   "outputs": [],
   "source": [
    "# N = np.array([n for n in range(55, 61)])\n",
    "# m.frec = Set (initialize=N)"
   ]
  },
  {
   "cell_type": "code",
   "execution_count": null,
   "id": "694f8587",
   "metadata": {},
   "outputs": [],
   "source": [
    "# @m.fs.unit.Constraint(m.fs.config.time)\n",
    "# def flow_calculation(unit,t):\n",
    "#    return unit.inlet.flow_mol[t] == (\n",
    "#        (Qin_t/60)*(m.fs.unit.freq[t,i] for i in m.frec)\n",
    "#    )"
   ]
  },
  {
   "cell_type": "code",
   "execution_count": null,
   "id": "512c4846",
   "metadata": {},
   "outputs": [],
   "source": [
    "@m.fs.unit.Constraint(m.fs.config.time)\n",
    "def flow_calculation(unit,t):\n",
    "    return unit.inlet.flow_mol[t] == (\n",
    "        (Qin_t/60)*(m.fs.unit.freq[t])\n",
    "    )\n",
    "\n",
    "@m.fs.unit.Constraint(m.fs.config.time)\n",
    "def Pdesc_calculation_freq(unit, t):\n",
    "    return unit.outlet.pressure[t] == (\n",
    "        (-3.1795*Qin_t**4)+\n",
    "        (150.43*Qin_t**3)+\n",
    "        (-2258.8*Qin_t**2)+\n",
    "        (-22975*Qin_t)+\n",
    "        (3000000)*((m.fs.unit.freq[t]/60)**3)\n",
    "    )\n",
    "\n",
    "@m.fs.unit.Constraint(m.fs.config.time)\n",
    "def eff_calculation_freq(unit, t):\n",
    "    return unit.efficiency_pump[t] == (\n",
    "        (0.00002*Qin_t**3)+\n",
    "        (-0.0022*Qin_t**2)+\n",
    "        (0.0774*Qin_t)+\n",
    "        (0.009)\n",
    "    )\n",
    "\n",
    "@m.fs.unit.Constraint(m.fs.config.time, doc=\"Break horse power constraint\")\n",
    "def bhp_calculation_freq(unit, t):\n",
    "    return unit.bhp[t] == (\n",
    "        (-0.021*Qin_t**3)+\n",
    "        (0.9103*Qin_t**2)+\n",
    "        (0.0248*Qin_t)+\n",
    "        (408.11)*((m.fs.unit.freq[t]/60)**2)\n",
    "    )\n"
   ]
  },
  {
   "cell_type": "code",
   "execution_count": null,
   "id": "1fa30798",
   "metadata": {
    "scrolled": true
   },
   "outputs": [],
   "source": [
    "m.fs.objective = Objective(expr=m.fs.unit.bhp[0])"
   ]
  },
  {
   "cell_type": "code",
   "execution_count": null,
   "id": "069b2991",
   "metadata": {},
   "outputs": [],
   "source": [
    "m.fs.unit.inlet.flow_mol[0].setlb(22)\n",
    "m.fs.unit.inlet.flow_mol[0].setub(26)\n",
    "m.fs.unit.efficiency_pump.setlb(0.7)\n",
    "m.fs.unit.efficiency_pump.setub(0.85)"
   ]
  },
  {
   "cell_type": "code",
   "execution_count": null,
   "id": "e4a7c95d",
   "metadata": {},
   "outputs": [],
   "source": [
    "iscale.set_scaling_factor(m.fs.unit.control_volume.work, 1e-2)"
   ]
  },
  {
   "cell_type": "code",
   "execution_count": null,
   "id": "545b0dee",
   "metadata": {
    "scrolled": false
   },
   "outputs": [],
   "source": [
    "m.fs.unit.initialize(outlvl=idaeslog.INFO)"
   ]
  },
  {
   "cell_type": "code",
   "execution_count": null,
   "id": "5b098d41",
   "metadata": {},
   "outputs": [],
   "source": [
    "opt = SolverFactory('ipopt') # set solver \n",
    "solve_status = opt.solve(m , tee=True) # set the solver status"
   ]
  },
  {
   "cell_type": "code",
   "execution_count": null,
   "id": "9667594d",
   "metadata": {},
   "outputs": [],
   "source": [
    "m.fs.unit.report()"
   ]
  },
  {
   "cell_type": "code",
   "execution_count": null,
   "id": "94e78878",
   "metadata": {},
   "outputs": [],
   "source": [
    "print (value(m.fs.unit.freq[0]))\n",
    "print (value(m.fs.objective)"
   ]
  },
  {
   "cell_type": "code",
   "execution_count": null,
   "id": "bebd067c",
   "metadata": {},
   "outputs": [],
   "source": [
    "#iscale.set_scaling_factor(m.fs.unit.control_volume.work, 1e-2, overwrite = True)\n",
    "#iscale.constraint_scaling_transform (m.fs.flow_up_pdisc, 1e-5, overwrite = True)\n",
    "#iscale.constraint_scaling_transform (m.fs.flow_low_pdisc, 1e-5, overwrite = True)\n",
    "#iscale.calculate_scaling_factors(m)"
   ]
  },
  {
   "cell_type": "code",
   "execution_count": null,
   "id": "44c38ee6",
   "metadata": {},
   "outputs": [],
   "source": [
    "#m.fs.flow_up_freq = Constraint (expr= m.fs.unit.inlet.flow_mol[0] <= 27) \n",
    "#m.fs.flow_low_freq = Constraint (expr= m.fs.unit.inlet.flow_mol[0] >= 22) \n",
    "#m.fs.flow_up_pdisc = Constraint (expr= m.fs.unit.outlet.pressure[0] <= 2200000) \n",
    "#m.fs.flow_low_pdisc = Constraint (expr= m.fs.unit.outlet.pressure[0] >= 1400000) \n",
    "#m.fs.flow_up_eff = Constraint (expr= m.fs.unit.efficiency_pump[0] <= 0.85) \n",
    "#m.fs.flow_low_eff = Constraint (expr= m.fs.unit.efficiency_pump[0] >= 0.7) "
   ]
  },
  {
   "cell_type": "code",
   "execution_count": null,
   "id": "d53010a6",
   "metadata": {
    "scrolled": false
   },
   "outputs": [],
   "source": [
    "#m.fs.flow_up_freq = Constraint (expr= m.fs.unit.control_volume.properties_out[t].flow_mol <= 27) \n",
    "#m.fs.flow_low_freq = Constraint (expr= m.fs.unit.control_volume.properties_out[t].flow_mol >= 22) \n",
    "#m.fs.flow_up_pdisc = Constraint (expr= m.fs.unit.control_volume.properties_out[t].pressure <= 1800000) \n",
    "#m.fs.flow_low_pdisc = Constraint (expr= m.fs.unit.control_volume.properties_out[t].pressure >= 1400000) "
   ]
  },
  {
   "cell_type": "code",
   "execution_count": null,
   "id": "18a15d53",
   "metadata": {},
   "outputs": [],
   "source": [
    "# @m.fs.unit.Constraint(m.fs.config.time)\n",
    "#def frec_calculation(unit,t):\n",
    "#    return m.fs.unit.freq [t] == (\n",
    "#        (m.fs.unit.control_volume.properties_out[t].flow_mol*60)/(Qin_t)\n",
    "#    )\n",
    "\n",
    "#@m.fs.unit.Constraint(m.fs.config.time)\n",
    "#def flow_calculation(unit,t):\n",
    "#    return unit.inlet.flow_mol[t] == (\n",
    "#        (Qin_t/60)*(m.fs.unit.freq[t])\n",
    "#    )"
   ]
  }
 ],
 "metadata": {
  "kernelspec": {
   "display_name": "Python 3 (ipykernel)",
   "language": "python",
   "name": "python3"
  },
  "language_info": {
   "codemirror_mode": {
    "name": "ipython",
    "version": 3
   },
   "file_extension": ".py",
   "mimetype": "text/x-python",
   "name": "python",
   "nbconvert_exporter": "python",
   "pygments_lexer": "ipython3",
   "version": "3.10.5"
  }
 },
 "nbformat": 4,
 "nbformat_minor": 5
}
